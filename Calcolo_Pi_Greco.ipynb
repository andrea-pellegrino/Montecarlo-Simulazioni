{
 "cells": [
  {
   "cell_type": "code",
   "execution_count": 22,
   "metadata": {},
   "outputs": [
    {
     "name": "stdout",
     "output_type": "stream",
     "text": [
      "Valore di Pi Greco:\n",
      " 3.1430832\n",
      "Elapsed time:\n",
      " 7.84\n"
     ]
    },
    {
     "data": {
      "image/png": "[encoded data removed]",
      "text/plain": [
       "<Figure size 432x288 with 1 Axes>"
      ]
     },
     "metadata": {
      "needs_background": "light"
     },
     "output_type": "display_data"
    }
   ],
   "source": [
    "import numpy as np\n",
    "import matplotlib.pyplot as plt\n",
    "import time as t\n",
    "\n",
    "tic = t.time()\n",
    "\n",
    "# Numero di punti della simulazione\n",
    "n = 1000\n",
    "\n",
    "# Vettore coordinate x e y dei punti casuali\n",
    "x = np.random.rand(n)\n",
    "y = np.random.rand(n)\n",
    "Pi_Greco = np.zeros(n)\n",
    "\n",
    "# Vettore distanza\n",
    "d = (x**2 + y**2)**(1/2)\n",
    "\n",
    "Ps = 0\n",
    "Pq = 0\n",
    "\n",
    "for i in range(n):\n",
    "    Pq += 1\n",
    "    if d[i] < 1:\n",
    "        Ps += 1\n",
    "    \n",
    "    Pi_Greco[i] = 4*(Ps/Pq)\n",
    "\n",
    "Pi_Greco_Reale = np.ones(n)*np.pi\n",
    "\n",
    "plt.figure(1)\n",
    "plt.plot(Pi_Greco)\n",
    "plt.plot(Pi_Greco_Reale)\n",
    "\n",
    "toc = t.time()\n",
    "\n",
    "print('Valore di Pi Greco:\\n',4*Ps/Pq)\n",
    "print('Elapsed time:\\n',round(toc-tic,3))"
   ]
  }
 ],
 "metadata": {
  "kernelspec": {
   "display_name": "Python 3",
   "language": "python",
   "name": "python3"
  },
  "language_info": {
   "codemirror_mode": {
    "name": "ipython",
    "version": 3
   },
   "file_extension": ".py",
   "mimetype": "text/x-python",
   "name": "python",
   "nbconvert_exporter": "python",
   "pygments_lexer": "ipython3",
   "version": "3.7.3"
  }
 },
 "nbformat": 4,
 "nbformat_minor": 4
}
