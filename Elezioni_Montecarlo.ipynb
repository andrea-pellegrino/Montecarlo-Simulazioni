{
 "cells": [
  {
   "cell_type": "code",
   "execution_count": 41,
   "metadata": {},
   "outputs": [
    {
     "name": "stdout",
     "output_type": "stream",
     "text": [
      "Vittoria A:\n",
      " 0.58411\n",
      "Vittoria B:\n",
      " 0.41589\n"
     ]
    }
   ],
   "source": [
    "import numpy as np\n",
    "\n",
    "'''\n",
    "Blu = 0.7\n",
    "Rosso = 0.8\n",
    "Giallo = 0.6\n",
    "Verde = 0.4\n",
    "Viola = 0.2\n",
    "'''\n",
    "# A winning prob.\n",
    "Prob = [0.7,0.8,0.6,0.4,0.2]\n",
    "L = len(Prob)\n",
    "\n",
    "# N° Simulazioni\n",
    "n = 100000\n",
    "\n",
    "# Partiti\n",
    "A = 0\n",
    "B = 0\n",
    "\n",
    "# 1 -> A\n",
    "# 0 -> B\n",
    "\n",
    "Table = np.zeros(n)\n",
    "\n",
    "for j in range(n):\n",
    "    Res = np.zeros(L)\n",
    "    \n",
    "    for i in range(L):\n",
    "        if Prob[i] > np.random.rand(1):\n",
    "            Res[i] = 1\n",
    "            \n",
    "    Table[j] = sum(Res)\n",
    "    \n",
    "    if Table[j] > 2:\n",
    "        A = A+1\n",
    "    else:\n",
    "        B = B+1\n",
    "        \n",
    "print('Vittoria A:\\n',A/n)\n",
    "print('Vittoria B:\\n',B/n)"
   ]
  },
  {
   "cell_type": "code",
   "execution_count": null,
   "metadata": {},
   "outputs": [],
   "source": []
  }
 ],
 "metadata": {
  "kernelspec": {
   "display_name": "Python 3",
   "language": "python",
   "name": "python3"
  },
  "language_info": {
   "codemirror_mode": {
    "name": "ipython",
    "version": 3
   },
   "file_extension": ".py",
   "mimetype": "text/x-python",
   "name": "python",
   "nbconvert_exporter": "python",
   "pygments_lexer": "ipython3",
   "version": "3.7.3"
  }
 },
 "nbformat": 4,
 "nbformat_minor": 4
}
