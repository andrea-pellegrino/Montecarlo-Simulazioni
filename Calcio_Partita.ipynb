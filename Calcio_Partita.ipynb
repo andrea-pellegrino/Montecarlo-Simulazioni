{
 "cells": [
  {
   "cell_type": "code",
   "execution_count": 121,
   "metadata": {},
   "outputs": [
    {
     "name": "stdout",
     "output_type": "stream",
     "text": [
      "Il risultato è:\n",
      "\n",
      "1 \t-\t 1\n"
     ]
    }
   ],
   "source": [
    "import numpy as np\n",
    "print('Il risultato è:\\n')\n",
    "\n",
    "Aa,Ad,Ba,Bd = 2,4,2,4\n",
    "pA = 0\n",
    "pB = 0\n",
    "flag = 0\n",
    "\n",
    "D = Aa - Ba - 1\n",
    "\n",
    "for i in range(10):\n",
    "    flag = 0;\n",
    "    while flag == 0:\n",
    "        goal = np.random.randint(1,13)\n",
    "        if goal > 8.5:\n",
    "            who = np.random.randint(1,17)\n",
    "            will = np.random.randint(1,13)\n",
    "            if who > 8.5-D:\n",
    "                if will < 4.5+Ad:\n",
    "                    pB += 1\n",
    "            else:\n",
    "                if will < 4.5+Bd:\n",
    "                    pA += 1\n",
    "        else:\n",
    "            flag = 1\n",
    "\n",
    "    \n",
    "print(pA,'\\t-\\t',pB)\n",
    "    \n",
    "    "
   ]
  },
  {
   "cell_type": "code",
   "execution_count": null,
   "metadata": {},
   "outputs": [],
   "source": []
  }
 ],
 "metadata": {
  "kernelspec": {
   "display_name": "Python 3",
   "language": "python",
   "name": "python3"
  },
  "language_info": {
   "codemirror_mode": {
    "name": "ipython",
    "version": 3
   },
   "file_extension": ".py",
   "mimetype": "text/x-python",
   "name": "python",
   "nbconvert_exporter": "python",
   "pygments_lexer": "ipython3",
   "version": "3.7.3"
  }
 },
 "nbformat": 4,
 "nbformat_minor": 4
}
